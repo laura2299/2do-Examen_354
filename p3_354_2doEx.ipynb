{
  "nbformat": 4,
  "nbformat_minor": 0,
  "metadata": {
    "colab": {
      "provenance": []
    },
    "kernelspec": {
      "name": "python3",
      "display_name": "Python 3"
    },
    "language_info": {
      "name": "python"
    }
  },
  "cells": [
    {
      "cell_type": "code",
      "execution_count": 3,
      "metadata": {
        "colab": {
          "base_uri": "https://localhost:8080/"
        },
        "id": "Cse3vXMX-sbr",
        "outputId": "e0108bfd-3c22-4981-9bb2-6da818dea0cc"
      },
      "outputs": [
        {
          "output_type": "stream",
          "name": "stdout",
          "text": [
            "['D', 'B', 'A', 'C', 'E']\n"
          ]
        }
      ],
      "source": [
        "import random\n",
        "import csv\n",
        "\n",
        "# Parámetros\n",
        "n_nodos = 5\n",
        "n_poblacion = 10\n",
        "mutacion = 0.3\n",
        "\n",
        "# Generar una lista de coordenadas que representen la distancia de nodo a nodo\n",
        "pesos = [\n",
        "    [0, 7, 9, 8, 20],\n",
        "    [7, 0, 10, 4, 11],\n",
        "    [9, 10, 0, 15, 5],\n",
        "    [8, 4, 15, 0, 17],\n",
        "    [20, 11, 5, 17, 0]\n",
        "]\n",
        "names_nodos = ['A', 'B', 'C', 'D', 'E']\n",
        "\n",
        "# Funciones auxiliares\n",
        "#calcula la distancia entre dos nodos \n",
        "#La función retorna el valor de la distancia calculada.\n",
        "def distancia_nodos(a, b):\n",
        "    return pesos[names_nodos.index(a)][names_nodos.index(b)]\n",
        "\n",
        "#generar un individuo aleatorio para ser utilizado en el algoritmo genético.\n",
        "def crear_individuo():\n",
        "    individuo = names_nodos.copy()\n",
        "    random.shuffle(individuo)\n",
        "    return individuo\n",
        "\n",
        "\n",
        "def calcular_fitness(individuo):\n",
        "    #fitness se usa para almacenar la suma acumulativa de las distancias recorridas por el individuo.\n",
        "    fitness = 0\n",
        "    for i in range(n_nodos - 1):\n",
        "        nodo_actual = individuo[i]\n",
        "        nodo_siguiente = individuo[i + 1]\n",
        "        fitness += distancia_nodos(nodo_actual, nodo_siguiente)\n",
        "    return fitness\n",
        "\n",
        "#realiza el cruce genético entre dos individuos (padres), utilizando un punto de corte aleatorio. \n",
        "def cruzar(padre1, padre2):\n",
        "    punto_corte = random.randint(1, n_nodos - 1)\n",
        "    hijo = padre1[:punto_corte] + [nodo for nodo in padre2 if nodo not in padre1[:punto_corte]]\n",
        "    return hijo\n",
        "\n",
        "#aplica una mutación a un individuo con una probabilidad controlada por la variable \n",
        "def mutar(individuo):\n",
        "    if random.random() < mutacion:\n",
        "        indices = random.sample(range(n_nodos), 2)\n",
        "        individuo[indices[0]], individuo[indices[1]] = individuo[indices[1]], individuo[indices[0]]\n",
        "    return individuo\n",
        "\n",
        "# Algoritmo genético\n",
        "\n",
        "#Se genera una población inicial de individuos mediante una comprensión de lista.\n",
        "poblacion = [crear_individuo() for _ in range(n_poblacion)]\n",
        "\n",
        "for generacion in range(50):\n",
        "    poblacion = sorted(poblacion, key=calcular_fitness)\n",
        "    #Se selecciona al individuo con el mejor valor de aptitud\n",
        "    elite = poblacion[0]\n",
        "    nueva_poblacion = [elite]\n",
        "\n",
        "    while len(nueva_poblacion) < n_poblacion:\n",
        "        #Se selecciona aleatoriamente un individuo de la población actual como los padres\n",
        "        padre1 = random.choice(poblacion)\n",
        "        padre2 = random.choice(poblacion)\n",
        "        hijo = cruzar(padre1, padre2)\n",
        "        hijo = mutar(hijo)\n",
        "        nueva_poblacion.append(hijo)\n",
        "\n",
        "    poblacion = nueva_poblacion\n",
        "\n",
        "# Obtener la mejor solución\n",
        "mejor_solucion = poblacion[0]\n",
        "print(mejor_solucion)\n",
        "# Generar archivo CSV con la solución\n",
        "with open('solucion.csv', 'w', newline='') as file:\n",
        "    writer = csv.writer(file)\n",
        "    writer.writerow(['Nodo'])\n",
        "    writer.writerows([[nodo] for nodo in mejor_solucion])\n"
      ]
    },
    {
      "cell_type": "code",
      "source": [],
      "metadata": {
        "id": "VDq-mHDmF7eh"
      },
      "execution_count": null,
      "outputs": []
    }
  ]
}