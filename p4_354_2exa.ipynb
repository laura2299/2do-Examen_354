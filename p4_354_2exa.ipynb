{
  "nbformat": 4,
  "nbformat_minor": 0,
  "metadata": {
    "colab": {
      "provenance": []
    },
    "kernelspec": {
      "name": "python3",
      "display_name": "Python 3"
    },
    "language_info": {
      "name": "python"
    }
  },
  "cells": [
    {
      "cell_type": "code",
      "execution_count": 5,
      "metadata": {
        "colab": {
          "base_uri": "https://localhost:8080/"
        },
        "id": "U_Spx9xqGqxc",
        "outputId": "42f72a10-17cb-46aa-fc9e-885acdf7373b"
      },
      "outputs": [
        {
          "output_type": "stream",
          "name": "stdout",
          "text": [
            "ERROR: unknown command \"!\"\n"
          ]
        }
      ],
      "source": [
        "pip! install deap"
      ]
    },
    {
      "cell_type": "code",
      "source": [
        "import random\n",
        "from deap import base, creator, tools, algorithms\n",
        "\n",
        "n_nodos = 5\n",
        "n_poblacion = 10\n",
        "mutacion = 0.3\n",
        "\n",
        "pesos = [\n",
        "    [0, 7, 9, 8, 20],\n",
        "    [7, 0, 10, 4, 11],\n",
        "    [9, 10, 0, 15, 5],\n",
        "    [8, 4, 15, 0, 17],\n",
        "    [20, 11, 5, 17, 0]\n",
        "]\n",
        "names_nodos = ['A', 'B', 'C', 'D', 'E']\n",
        "\n",
        "#Se crea un tipo de aptitud para problemas de minimización, se define un tipo \n",
        "#de individuo basado en una lista y se registran las funciones necesarias \n",
        "#para generar individuos y poblaciones en el toolbox\n",
        "\n",
        "#Se crea un nuevo tipo de aptitud llamado \"FitnessMin\" utilizando la función create() del módulo creator\n",
        "creator.create(\"FitnessMin\", base.Fitness, weights=(-1.0,))\n",
        "# Se crea un nuevo tipo de individuo llamado \"Individual\"  que es una lista y se asocia con fitnessMin\n",
        "creator.create(\"Individual\", list, fitness=creator.FitnessMin)\n",
        "# toolbox actúa como un contenedor para registrar las operaciones genéticas y los componentes del algoritmo genético.\n",
        "toolbox = base.Toolbox()\n",
        "toolbox.register(\"permutation\", random.sample, range(n_nodos), n_nodos)\n",
        "toolbox.register(\"individual\", tools.initIterate, creator.Individual, toolbox.permutation)\n",
        "toolbox.register(\"population\", tools.initRepeat, list, toolbox.individual)\n",
        "\n",
        "def distancia_nodos(individual):\n",
        "    distancia = 0\n",
        "    for i in range(n_nodos - 1):\n",
        "        nodo_actual = individual[i]\n",
        "        nodo_siguiente = individual[i + 1]\n",
        "        distancia += pesos[nodo_actual][nodo_siguiente]\n",
        "    return distancia,\n",
        "\n",
        "def mutar(individual):\n",
        "    if random.random() < mutacion:\n",
        "        indices = random.sample(range(n_nodos), 2)\n",
        "        individual[indices[0]], individual[indices[1]] = individual[indices[1]], individual[indices[0]]\n",
        "    return individual,\n",
        "\n",
        "#funciones de evaluación, cruce, mutación y selección en el objeto toolbox de DEAP. \n",
        "\n",
        "toolbox.register(\"evaluacion\", distancia_nodos)\n",
        "toolbox.register(\"mate\", tools.cxPartialyMatched)\n",
        "toolbox.register(\"mutate\", mutar)\n",
        "toolbox.register(\"select\", tools.selTournament, tournsize=3)\n",
        "\n",
        "def main():\n",
        "    random.seed(42)\n",
        "\n",
        "    poblacion = toolbox.population(n=n_poblacion)\n",
        "\n",
        "    for gen in range(50):\n",
        "        #Se aplica la operación genética varAnd (variación y cruce) a la población actual utilizando los operadores registrados en el toolbox\n",
        "        offspring = algorithms.varAnd(poblacion, toolbox, cxpb=0.5, mutpb=0.2)\n",
        "        # Se calcula la aptitud de cada individuo en la descendencia utilizando la función de evaluación registrada como \"evaluate\"\n",
        "        fitnesses = toolbox.map(toolbox.evaluacion, offspring)\n",
        "        for ind, fit in zip(offspring, fitnesses):\n",
        "            ind.fitness.values = fit\n",
        "        #Se seleccionan los mejores individuos de la descendencia utilizando la función de \n",
        "        #selección registrada como \"select\" en el toolbox. Se reemplaza la población actual por los individuos seleccionados.\n",
        "        poblacion = toolbox.select(offspring, k=n_poblacion)\n",
        "\n",
        "    best_individuo = tools.selBest(poblacion, k=1)[0]\n",
        "    #Se crea una lista mejor_recorrido que contiene los nombres de los nodos correspondientes al mejor individuo.\n",
        "    mejor_recorrido = [names_nodos[i] for i in best_individuo]\n",
        "\n",
        "    print(\"Mejor recorrido:\", mejor_recorrido)\n",
        "\n",
        "if __name__ == \"__main__\":\n",
        "    main()\n"
      ],
      "metadata": {
        "colab": {
          "base_uri": "https://localhost:8080/"
        },
        "id": "ftl9jOBuHnfw",
        "outputId": "50c5436a-fca7-4bd5-d678-f5932e9b3764"
      },
      "execution_count": 11,
      "outputs": [
        {
          "output_type": "stream",
          "name": "stdout",
          "text": [
            "Mejor recorrido: ['E', 'C', 'A', 'B', 'D']\n"
          ]
        }
      ]
    }
  ]
}